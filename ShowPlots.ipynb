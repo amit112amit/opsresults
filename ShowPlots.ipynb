{
 "cells": [
  {
   "cell_type": "markdown",
   "metadata": {},
   "source": [
    "# Experimenting\n",
    "We have 30 values of $\\gamma$ and 20 values of $1/\\beta$ for each $\\gamma$ in our simulations."
   ]
  },
  {
   "cell_type": "code",
   "execution_count": 1,
   "metadata": {
    "jupyter": {
     "source_hidden": true
    }
   },
   "outputs": [],
   "source": [
    "from collections import defaultdict\n",
    "\n",
    "def getschedule():\n",
    "    \"\"\"\n",
    "    Read the file 'Schedule.csv' and collect the temperatures for each value of gamma.\n",
    "    This file is sorted by gamma and then temperatures for each gamma.\n",
    "    \"\"\"\n",
    "    tempmap = defaultdict(list)\n",
    "    gammaset = set()\n",
    "    with open('Schedule.csv', 'r') as csvfile:\n",
    "        data = csvfile.read().split('\\n')[1:-1]\n",
    "        for row in data:\n",
    "            gamma, temp = [round(float(s), 4) for s in row.split(',')]\n",
    "            gammaset.add(gamma)\n",
    "            tempmap[gamma].append(temp)\n",
    "    gamma = sorted(list(gammaset))\n",
    "    return gamma, tempmap"
   ]
  },
  {
   "cell_type": "code",
   "execution_count": 2,
   "metadata": {
    "jupyter": {
     "source_hidden": true
    }
   },
   "outputs": [],
   "source": [
    "import numpy as np\n",
    "import h5py as hp\n",
    "\n",
    "def getstats(gammaid, tempid, var2):\n",
    "    \"\"\"\n",
    "    Given gamma and temperature indices, get the plot arrays for msd and `y2`.\n",
    "    \n",
    "    Parameters:\n",
    "    -----------\n",
    "    gammaid: index of gamma if the unique gamma values are arranged in ascending order.\n",
    "    tempid: index of temperature if the unique temperature values are arranged in ascending order.\n",
    "    var2: string for the physical variable to be plotted on the second plot as per the following map\n",
    "        Valid values are 'Volume', 'rmsAngleDeficit', 'Asphericity'\n",
    "    \n",
    "    Returns:\n",
    "    --------\n",
    "    2 numpy arrays for msd and `var2`, each having 3 rows and 500 columns.\n",
    "    \"\"\"\n",
    "    mapping = {'Volume': 1, 'rmsAngleDeficit': 2, 'Asphericity': 3}\n",
    "    \n",
    "    # There are 20 values of temperature for each gamma.\n",
    "    index0 = 20*gammaid + tempid\n",
    "    index1 = mapping[var2]\n",
    "    \n",
    "    with hp.File('StatsFile.h5', 'r') as statfile:\n",
    "        msd = statfile['Stats'][index0, 0, :, :]\n",
    "        arr2 = statfile['Stats'][index0, index1, :, :]\n",
    "    return msd, arr2"
   ]
  },
  {
   "cell_type": "code",
   "execution_count": 3,
   "metadata": {
    "jupyter": {
     "source_hidden": true
    }
   },
   "outputs": [],
   "source": [
    "from pyhull.convex_hull import ConvexHull\n",
    "\n",
    "def getshell(gammaid, tempid, run, time=1996000):\n",
    "    \"\"\"\n",
    "    For a given gamma id, temperature id and timestep, read the coordinates from file and generate a mesh.\n",
    "    \n",
    "    Parameters:\n",
    "    -----------\n",
    "    gammaid: index of gamma\n",
    "    tempid: index of temperature\n",
    "    run: 0, 1 or 2. For every combination of gamma and temperature, we have 3 runs. \n",
    "    time: timestep\n",
    "    \n",
    "    Returns:\n",
    "    --------\n",
    "    x, y, z: coordinates of vertices of the mesh\n",
    "    triangles: a Nx3 array giving connectivity of vertices forming the mesh\n",
    "    \"\"\"\n",
    "    # There are 20 values of temperature for each gamma.\n",
    "    index0 = 20*gammaid + tempid\n",
    "    index1 = time // 4000\n",
    "    index2 = run\n",
    "    with hp.File('VTKFile.h5', 'r') as vtkfile:\n",
    "        points = vtkfile['Points'][index0, index1, index2, :].reshape(-1, 3)\n",
    "    \n",
    "    sphere = points/np.linalg.norm(points, axis=1, keepdims=True)\n",
    "    hull = ConvexHull(sphere)\n",
    "    return points, hull.vertices"
   ]
  },
  {
   "cell_type": "code",
   "execution_count": 4,
   "metadata": {
    "jupyter": {
     "source_hidden": true
    }
   },
   "outputs": [],
   "source": [
    "gamma, tempmap = getschedule()"
   ]
  },
  {
   "cell_type": "code",
   "execution_count": 5,
   "metadata": {
    "jupyter": {
     "source_hidden": true
    }
   },
   "outputs": [],
   "source": [
    "import ipympl\n",
    "%matplotlib widget\n",
    "import matplotlib.pyplot as plt\n",
    "from mpl_toolkits.mplot3d import Axes3D\n",
    "from matplotlib.gridspec import GridSpec\n",
    "from matplotlib.ticker import ScalarFormatter\n",
    "plt.style.use('ggplot')\n",
    "\n",
    "# Subplot 2 (ax1) x-axis tick formatter\n",
    "formatter = ScalarFormatter(useOffset=True, useMathText=True)\n",
    "formatter.set_powerlimits((3, 3))\n",
    "\n",
    "plt.ioff()\n",
    "fig = plt.figure()\n",
    "fig.set_tight_layout(True)\n",
    "fig.canvas.layout.max_width='1000px'\n",
    "fig.canvas.layout.height='500px'\n",
    "gs = GridSpec(2, 2, figure=fig)\n",
    "ax0 = fig.add_subplot(gs[0, :-1])\n",
    "ax1 = fig.add_subplot(gs[1, :-1], sharex=ax0)\n",
    "ax2 = fig.add_subplot(gs[:, 1], projection='3d')\n",
    "\n",
    "ax0.set_ylabel(r'MSD')\n",
    "ax0.set_ylim(0.0, 5.0)\n",
    "plt.setp(ax0.get_xticklabels(), visible=False)\n",
    "\n",
    "ax1.set_ylabel(r'Volume')\n",
    "ax1.set_ylim(20.0, 47.0)\n",
    "\n",
    "ax1.set_xlabel(r'Time Steps')\n",
    "ax1.xaxis.set_major_formatter(formatter)\n",
    "ax1.set_xlim(0, 2000000)\n",
    "\n",
    "# Prepare plot artists\n",
    "timearr = np.arange(0, 2000000, 4000)\n",
    "title = fig.suptitle(r'$\\gamma = {0:8.3f}$, $1/\\beta = {1:6.4f}$'.format(gamma[0], tempmap[gamma[0]][0]))\n",
    "\n",
    "# Get starting data\n",
    "msd, vol = getstats(0, 0, 'Volume')\n",
    "\n",
    "# The three Mean Squared Displacement curves\n",
    "msdlines = []\n",
    "for i in range(3):\n",
    "    msdlines.append(ax0.plot(timearr, msd[i, :])[0])\n",
    "    \n",
    "# The three curves for whatever variable is on second plot\n",
    "arrlines = []\n",
    "for i in range(3):\n",
    "    arrlines.append(ax1.plot(timearr, vol[i, :])[0])"
   ]
  },
  {
   "cell_type": "code",
   "execution_count": 6,
   "metadata": {
    "jupyter": {
     "source_hidden": true
    }
   },
   "outputs": [],
   "source": [
    "import ipywidgets as ipw\n",
    "\n",
    "gammaw = ipw.IntSlider(min=0, max=29, step=1, value=0, description=r'FvK #', continuous_update=False)\n",
    "tempw = ipw.IntSlider(min=0, max=19, step=1, value=0, description=r'Temperature', continuous_update=False)\n",
    "timew = ipw.IntSlider(min=0, max=1996000, step=4000, value=1996000, description=r'Time Step', continuous_update=False)\n",
    "runw = ipw.Dropdown(options=[0, 1, 2], description='Run #:')\n",
    "plot2w = ipw.Dropdown(options=['Volume', 'rmsAngleDeficit', 'Asphericity'], description='Second plot:')\n",
    "controls = ipw.HBox([ipw.VBox([plot2w, gammaw, tempw]), ipw.VBox([runw, timew])])"
   ]
  },
  {
   "cell_type": "code",
   "execution_count": 7,
   "metadata": {
    "jupyter": {
     "source_hidden": true
    }
   },
   "outputs": [],
   "source": [
    "def updatecurves(gammaid, tempid, plot2):\n",
    "    \"\"\"\n",
    "    Update the 2d plots.\n",
    "    \"\"\"\n",
    "    # Get the arrays for 2D plots\n",
    "    msd, arr2 = getstats(gammaid, tempid, plot2)\n",
    "    for i in range(3):\n",
    "        msdlines[i].set_ydata(msd[i, :])\n",
    "        arrlines[i].set_ydata(arr2[i, :])\n",
    "    gammaval = gamma[gammaid]\n",
    "    tempval = tempmap[gammaval][tempid]\n",
    "    text = r'$\\gamma = {0:8.3f}$, $1/\\beta = {1:6.4f}$'.format(gammaval, tempval)\n",
    "    title.set_text(text)\n",
    "    fig.canvas.draw_idle()\n",
    "\n",
    "def updateplot2axes(plot2):\n",
    "    \"\"\"\n",
    "    Change the axes for second plot based on selection:\n",
    "    \"\"\"\n",
    "    if plot2 is 'Volume':\n",
    "        ax1.set_ylim(20.0, 47.0)\n",
    "        ax1.set_ylabel(r'Volume')\n",
    "    elif plot2 is 'Asphericity':\n",
    "        ax1.set_ylim(0.0, 0.05)\n",
    "        ax1.set_ylabel(r'Asphericity')\n",
    "    else: #plot2 is 'rmsAngleDeficit':\n",
    "        ax1.set_ylim(0.0, 1.2)\n",
    "        ax1.set_ylabel(r'rms Angle Deficit')\n",
    "    updatecurves(gammaw.value, tempw.value, plot2)\n",
    "\n",
    "def update3dplot(gammaid, tempid, runid, time=1996000):\n",
    "    \"\"\"\n",
    "    Update the 3D plot with new shell structure.\n",
    "    \"\"\"\n",
    "    points, mesh = getshell(gammaid, tempid, runid, time)\n",
    "    ax2.cla()\n",
    "    ax2.plot_trisurf(points[:,0], points[:,1], points[:,2], triangles=mesh)\n",
    "    fig.canvas.draw_idle()"
   ]
  },
  {
   "cell_type": "code",
   "execution_count": 8,
   "metadata": {
    "jupyter": {
     "source_hidden": true
    }
   },
   "outputs": [],
   "source": [
    "outplot2 = ipw.interactive_output(updateplot2axes, {'plot2':plot2w})\n",
    "outplotcurves = ipw.interactive_output(updatecurves, {'gammaid':gammaw, 'tempid':tempw, 'plot2':plot2w})\n",
    "outplot3d = ipw.interactive_output(update3dplot, {'gammaid':gammaw, 'tempid':tempw, 'runid':runw, 'time':timew})\n",
    "gui = ipw.VBox([controls, fig.canvas])"
   ]
  },
  {
   "cell_type": "code",
   "execution_count": 9,
   "metadata": {
    "jupyter": {
     "source_hidden": true
    }
   },
   "outputs": [
    {
     "data": {
      "application/vnd.jupyter.widget-view+json": {
       "model_id": "2742509325bd4014b7cc8bfb315b9c9a",
       "version_major": 2,
       "version_minor": 0
      },
      "text/plain": [
       "VBox(children=(HBox(children=(VBox(children=(Dropdown(description='Second plot:', options=('Volume', 'rmsAngle…"
      ]
     },
     "metadata": {},
     "output_type": "display_data"
    }
   ],
   "source": [
    "display(gui)"
   ]
  }
 ],
 "metadata": {
  "kernelspec": {
   "display_name": "Python 3",
   "language": "python",
   "name": "python3"
  },
  "language_info": {
   "codemirror_mode": {
    "name": "ipython",
    "version": 3
   },
   "file_extension": ".py",
   "mimetype": "text/x-python",
   "name": "python",
   "nbconvert_exporter": "python",
   "pygments_lexer": "ipython3",
   "version": "3.7.4"
  }
 },
 "nbformat": 4,
 "nbformat_minor": 4
}
