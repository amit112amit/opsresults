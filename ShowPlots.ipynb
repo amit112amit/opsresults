{
 "cells": [
  {
   "cell_type": "markdown",
   "metadata": {},
   "source": [
    "# Finite Temperature Phase Behavior of Viral Capsids as Oriented Particle Shells\n",
    "This notebook shows plots of mean-squared displacements, volume, asphericity and root mean squared angle deficit for shells made up of oriented particles at different temperatures ($1/\\beta$) for different F&#246;ppl von K&#224;rm&#224;n ($\\gamma$) numbers. We chose 30 log-spaced $\\gamma$ values between 0.2 and 20000. For each $\\gamma$ we chose 20 values of $1/\\beta$. So there are a total of 600 combinations of $\\gamma$ and $1/\\beta$. We have data for three runs for each combination of $\\gamma$ and $1/\\beta$. Each run had 2,000,000 time steps. In these plots we only show data-points after every 4000 time steps.\n",
    "\n",
    "To generate the plots, in the toolbar on the top, go to `Cell --> Run All`. Or go to next cell and hit `Shift + Enter`. If you face any problems, try restarting the Python kernel by going to `Kernel --> Restart and Run All` in the toolbar.\n",
    "\n",
    "If you wish to look at the code used to generate the plot then please clone the Git repository [https://github.com/amit112amit/opsresults](https://github.com/amit112amit/opsresults). The main code is in the files `makeplotwidgets.py` and `extractdata.py`. There is also a Bash script file `getdata` that downloads the data for the plots."
   ]
  },
  {
   "cell_type": "code",
   "execution_count": 1,
   "metadata": {},
   "outputs": [
    {
     "data": {
      "application/vnd.jupyter.widget-view+json": {
       "model_id": "31cb0e040a3040a59c6d80935a0316b3",
       "version_major": 2,
       "version_minor": 0
      },
      "text/plain": [
       "VBox(children=(HBox(children=(VBox(children=(Dropdown(description='Second plot:', options=('Volume', 'rmsAngle…"
      ]
     },
     "metadata": {},
     "output_type": "display_data"
    }
   ],
   "source": [
    "from makeplotwidgets import guisetup\n",
    "display(guisetup())"
   ]
  }
 ],
 "metadata": {
  "kernelspec": {
   "display_name": "UCLA Python3",
   "language": "python",
   "name": "pyucla"
  },
  "language_info": {
   "codemirror_mode": {
    "name": "ipython",
    "version": 3
   },
   "file_extension": ".py",
   "mimetype": "text/x-python",
   "name": "python",
   "nbconvert_exporter": "python",
   "pygments_lexer": "ipython3",
   "version": "3.7.4"
  }
 },
 "nbformat": 4,
 "nbformat_minor": 4
}
